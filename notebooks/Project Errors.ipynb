{
 "cells": [
  {
   "cell_type": "markdown",
   "id": "72a8378c-79b5-44bd-91b3-eb546fdc898c",
   "metadata": {},
   "source": [
    "# Error Projections"
   ]
  },
  {
   "cell_type": "code",
   "execution_count": null,
   "id": "9eb7d6a1-254a-415a-8605-18d99a91b661",
   "metadata": {},
   "outputs": [],
   "source": [
    "#  Plotly Visualization\n",
    "import plotly.graph_objects as go\n",
    "import plotly.express       as px\n",
    "import plotly.subplots      as sp\n",
    "\n",
    "# OpenCV\n",
    "import cv2\n",
    "\n",
    "# Pandas \n",
    "import pandas as pd\n",
    "\n",
    "import math\n",
    "\n",
    "#  Numpy\n",
    "import numpy as np\n",
    "\n",
    "import scipy.interpolate\n",
    "\n",
    "from pyproj import CRS, Transformer\n",
    "\n",
    "# Terminus APIs\n",
    "from tmns.core.types import GCP\n",
    "from tmns.dem.gtiff import DEM_File as DEM\n",
    "from tmns.dem.fixed import Fixed_DEM as Flat\n",
    "from tmns.proj.RPC00B import RPC00B\n",
    "from tmns.proj.SENSRB import SENSRB"
   ]
  },
  {
   "cell_type": "code",
   "execution_count": null,
   "id": "123f7901-db90-436b-a2fa-f3a2bf6a3589",
   "metadata": {},
   "outputs": [],
   "source": [
    "srtm_path = 'SRTM_GL1.tif'\n",
    "dem = DEM( srtm_path )"
   ]
  },
  {
   "cell_type": "code",
   "execution_count": null,
   "id": "fad1a218-56c2-4a66-82fc-31c1adef344a",
   "metadata": {},
   "outputs": [],
   "source": [
    "img_path = 'ARUDEN000040045.2.tif'"
   ]
  },
  {
   "cell_type": "code",
   "execution_count": null,
   "id": "710b9605-ff8f-46fc-9413-c923f7c274cb",
   "metadata": {},
   "outputs": [],
   "source": [
    "img_bands = cv2.cvtColor( cv2.imread( img_path, cv2.IMREAD_COLOR ), cv2.COLOR_BGR2RGB )\n",
    "print(img_bands.shape)"
   ]
  },
  {
   "cell_type": "code",
   "execution_count": null,
   "id": "953babfc-4b66-42c5-8bc2-dea0ab30d742",
   "metadata": {},
   "outputs": [],
   "source": [
    "fig1 = go.Figure()\n",
    "fig1.add_trace( go.Image( z = img_bands ) )\n",
    "fig1.update_layout( title = 'USGS Aerial Photo, 4/23/2002',\n",
    "                    height = 700 )\n",
    "fig1.show( renderer = 'png' )"
   ]
  },
  {
   "cell_type": "markdown",
   "id": "8f632870-a2db-4f38-ad57-864950b1e97f",
   "metadata": {},
   "source": [
    "## Setup Ground Control Points"
   ]
  },
  {
   "cell_type": "code",
   "execution_count": null,
   "id": "9feedf9d-5ec7-40e7-85a6-2ec5f2a447fb",
   "metadata": {},
   "outputs": [],
   "source": [
    "gcp_df = pd.read_csv( 'GCPs.csv' )\n",
    "mean_elevation = gcp_df['Elevation'].mean()\n",
    "gcp_df['Elevation'] = mean_elevation\n",
    "display( gcp_df.head(5) )\n",
    "display( f'Total of {gcp_df.shape[0]} GCPs loaded' )"
   ]
  },
  {
   "cell_type": "code",
   "execution_count": null,
   "id": "9181a1b6-b6c1-46c8-bd81-2a78a88d3ef2",
   "metadata": {},
   "outputs": [],
   "source": [
    "crd_xform = Transformer.from_crs( 4326, 32613 )"
   ]
  },
  {
   "cell_type": "code",
   "execution_count": null,
   "id": "b3b18977-3877-4651-baa1-09bb81f3133b",
   "metadata": {},
   "outputs": [],
   "source": [
    "lla_gcp_list = []\n",
    "utm_gcp_list = []\n",
    "counter = 0\n",
    "for gcp in gcp_df.itertuples():\n",
    "\n",
    "    utm = crd_xform.transform( gcp.Latitude, gcp.Longitude )\n",
    "\n",
    "    lla_gcp_list.append( GCP( id = counter,\n",
    "                              pixel = np.array( [ gcp.PX, gcp.PY ], dtype = np.float64 ),\n",
    "                              coordinate = np.array( [ gcp.Longitude, gcp.Latitude, gcp.Elevation ], dtype = np.float64 ) ) )\n",
    "    \n",
    "    utm_gcp_list.append( GCP( id = counter,\n",
    "                              pixel = np.array( [ gcp.PX, gcp.PY ], dtype = np.float64 ),\n",
    "                              coordinate = np.array( [ utm[0], utm[1], gcp.Elevation ], dtype = np.float64 ) ) )\n",
    "    counter += 1"
   ]
  },
  {
   "cell_type": "markdown",
   "id": "1f3e64f1-3471-4a87-bfdc-df300eac5d9c",
   "metadata": {},
   "source": [
    "![GCP List](./docs/gcp_list.png)"
   ]
  },
  {
   "cell_type": "markdown",
   "id": "921056c8-83bc-4a9a-8460-5952f2d17467",
   "metadata": {},
   "source": [
    "## 4 Corner Comparison\n",
    "\n",
    "The image from the USGS attempts to define 4 corners.  The equation is given by the following:\n",
    "\n",
    "$$\n",
    "t_x = \n",
    "$$\n",
    "\n",
    "$$\n",
    "X_\\texttt{top} = \\lambda_{tl) \\cdot (1-t) + \\lambda_tr \\cdot  t\n",
    "$$"
   ]
  },
  {
   "cell_type": "code",
   "execution_count": null,
   "id": "d141d30e-a581-43c2-98ff-71dba929ce70",
   "metadata": {},
   "outputs": [],
   "source": [
    "model = { 'tl': np.array( crd_xform.transform( 39.765563, -104.972699 ) ),\n",
    "          'tr': np.array( crd_xform.transform( 39.765335, -104.932675 ) ),\n",
    "          'bl': np.array( crd_xform.transform( 39.734676, -104.972985 ) ),\n",
    "          'br': np.array( crd_xform.transform( 39.734448, -104.932979 ) ) }\n",
    "\n",
    "points = []\n",
    "deltas = []\n",
    "sumD = 0\n",
    "for gcp in utm_gcp_list:\n",
    "\n",
    "    tx = gcp.pixel[0] / img_bands.shape[0]\n",
    "    ty = gcp.pixel[1] / img_bands.shape[1]\n",
    "\n",
    "    p1 = model['tl'] * (1-tx) + model['tr'] * tx\n",
    "    p2 = model['bl'] * (1-tx) + model['br'] * tx\n",
    "\n",
    "    pt = p1 * (1-ty) + p2 * ty\n",
    "    points.append( [float(x) for x in pt] )\n",
    "\n",
    "    delta = pt - gcp.coordinate[0:2]\n",
    "    deltas.append( math.sqrt( np.dot( delta, delta ) ) )\n",
    "    sumD += deltas[-1]\n",
    "\n",
    "rms_corners = math.sqrt( sumD / len(utm_gcp_list))\n",
    "min_x = min( model['tl'][0], model['bl'][0] )\n",
    "max_x = max( model['tr'][0], model['br'][0] )\n",
    "min_y = min( model['tl'][1], model['bl'][1] )\n",
    "max_y = max( model['tr'][1], model['br'][1] )\n",
    "\n",
    "grid_x, grid_y = np.mgrid[ min_x:max_x:50, min_y:max_y:50]\n",
    "grid_vals = scipy.interpolate.griddata( points, deltas, (grid_x, grid_y), method='linear' )\n"
   ]
  },
  {
   "cell_type": "code",
   "execution_count": null,
   "id": "ccc180c3-63bc-4f39-96e5-2b7c9925795d",
   "metadata": {},
   "outputs": [],
   "source": [
    "fig2 = px.imshow( grid_vals )\n",
    "fig2.update_layout( height = 600, width = 800 )\n",
    "fig2.write_image( 'docs/4-corner-diffs.png' )\n",
    "fig2.show( renderer = 'png' )"
   ]
  },
  {
   "cell_type": "code",
   "execution_count": null,
   "id": "494b0baa-c751-436c-8d41-bf45623c47ba",
   "metadata": {},
   "outputs": [],
   "source": [
    "from IPython.display import Image, HTML, display\n",
    "\n",
    "image_A = './docs/gcp_list.png'\n",
    "image_B = './docs/4-corner-diffs2.png'\n",
    "\n",
    "display(HTML(\"<table><tr><td><img width=400 src={0}></td><td><img width=400 src={1}></td></tr></table>\".format(image_A,image_B)))"
   ]
  },
  {
   "cell_type": "code",
   "execution_count": null,
   "id": "54475b82-be97-487a-92a9-0e411a4e80bc",
   "metadata": {},
   "outputs": [],
   "source": [
    "print( f'RMS Error: {rms_corners}' )"
   ]
  },
  {
   "cell_type": "markdown",
   "id": "a2ae7e18-a15e-4fbe-b1e2-5ccad369b4ae",
   "metadata": {},
   "source": [
    "## Geo-Transform Comparison\n",
    "\n"
   ]
  },
  {
   "cell_type": "code",
   "execution_count": null,
   "id": "4e7dc313-fb81-412c-af5d-e0f81cadbd56",
   "metadata": {},
   "outputs": [],
   "source": [
    "image_size = np.array( [2829.0, 2964.0], dtype = np.float64 )\n",
    "\n",
    "#  Create model from GCPs\n",
    "new_model = SENSRB.solve( gcps       = utm_gcp_list,\n",
    "                          image_size = image_size )\n",
    "        \n",
    "#  Verify the model\n",
    "sumDelta = 0\n",
    "points = []\n",
    "deltas = []\n",
    "minVal = np.copy(utm_gcp_list[0].coordinate)[0:2]\n",
    "maxVal = np.copy(utm_gcp_list[0].coordinate)[0:2]\n",
    "maxDelta = 0\n",
    "for gcp in utm_gcp_list:\n",
    "\n",
    "    #  World coordinate\n",
    "    utm = new_model.pixel_to_world( gcp.pixel,\n",
    "                                    coord_epsg = 32613,\n",
    "                                    dem_model = dem )\n",
    "\n",
    "    delta = utm - gcp.coordinate\n",
    "    sumDelta += math.sqrt( np.dot( delta, delta ) )\n",
    "\n",
    "    points.append( utm[0:2] )\n",
    "    deltas.append( math.sqrt( np.dot( delta, delta ) ) )\n",
    "\n",
    "    minVal[0] = min( minVal[0], gcp.coordinate[0] )\n",
    "    maxVal[0] = max( maxVal[0], gcp.coordinate[0] )\n",
    "    minVal[1] = min( minVal[1], gcp.coordinate[1] )\n",
    "    maxVal[1] = max( maxVal[1], gcp.coordinate[1] )\n",
    "\n",
    "    maxDelta = max( maxDelta, math.sqrt( np.dot( delta, delta ) ) )\n",
    "\n",
    "rms_geotransform = math.sqrt( sumDelta / len(utm_gcp_list) )\n",
    "print( f'RMS Error: {rms_geotransform}, Max Delta: {maxDelta}' )\n",
    "\n",
    "grid_x, grid_y = np.mgrid[ minVal[0]:maxVal[0]:50, minVal[1]:maxVal[1]:50]\n",
    "grid_vals = scipy.interpolate.griddata( points, deltas, (grid_x, grid_y), method='linear' )"
   ]
  },
  {
   "cell_type": "code",
   "execution_count": null,
   "id": "3330958e-6b8e-4ec5-bc0b-e364f61bef33",
   "metadata": {},
   "outputs": [],
   "source": [
    "fig3 = px.imshow( grid_vals )\n",
    "fig3.update_layout( height = 600, width = 800 )\n",
    "fig3.write_image( 'docs/geotransform-diffs.png' )\n",
    "fig3.show( renderer = 'png' )"
   ]
  },
  {
   "cell_type": "code",
   "execution_count": null,
   "id": "9d7d8659-b186-4236-8547-80ebf133bc3d",
   "metadata": {},
   "outputs": [],
   "source": [
    "from IPython.display import Image, HTML, display\n",
    "\n",
    "image_A = './docs/gcp_list.png'\n",
    "image_B = './docs/geotransform-diffs2.png'\n",
    "\n",
    "display(HTML(\"<table><tr><td><img width=400 src={0}></td><td><img width=400 src={1}></td></tr></table>\".format(image_A,image_B)))"
   ]
  },
  {
   "cell_type": "markdown",
   "id": "247c2911-97ba-4d15-86e1-f778d6cc747b",
   "metadata": {},
   "source": [
    "## Computing RPCs\n"
   ]
  },
  {
   "cell_type": "code",
   "execution_count": null,
   "id": "43c9c154-1701-4412-87d5-575b04f07c65",
   "metadata": {},
   "outputs": [],
   "source": [
    "flat_model = Flat(1612)\n",
    "\n",
    "#  Create model from GCPs\n",
    "new_model = RPC00B.solve( gcps       = lla_gcp_list,\n",
    "                          dem        = flat_model,\n",
    "                          image_size = image_size,\n",
    "                          method     = 'B' )\n",
    "        \n",
    "#  Verify the model\n",
    "sumDelta = 0\n",
    "points = []\n",
    "deltas = []\n",
    "minVal = np.copy(lla_gcp_list[0].coordinate)[0:2]\n",
    "maxVal = np.copy(lla_gcp_list[0].coordinate)[0:2]\n",
    "maxDelta = 0\n",
    "\n",
    "for gcp in lla_gcp_list:\n",
    "\n",
    "    #  World coordinate\n",
    "    #lla = new_model.pixel_to_world( gcp.pixel,\n",
    "    #                                dem_model  = dem,\n",
    "    #                                method     = 'B' )\n",
    "\n",
    "    #print( f'lla: {lla}, gcp: {gcp.coordinate}' )\n",
    "    #delta = lla - gcp.coordinate\n",
    "    pix = new_model.world_to_pixel( gcp.coordinate,\n",
    "                                    method = 'B' )\n",
    "    delta = pix - gcp.pixel\n",
    "    \n",
    "    sumDelta += math.sqrt( np.dot( delta, delta ) )\n",
    "\n",
    "    points.append( utm[0:2] )\n",
    "    deltas.append( math.sqrt( np.dot( delta, delta ) ) )\n",
    "\n",
    "    minVal[0] = min( minVal[0], gcp.coordinate[0] )\n",
    "    maxVal[0] = max( maxVal[0], gcp.coordinate[0] )\n",
    "    minVal[1] = min( minVal[1], gcp.coordinate[1] )\n",
    "    maxVal[1] = max( maxVal[1], gcp.coordinate[1] )\n",
    "\n",
    "    maxDelta = max( maxDelta, math.sqrt( np.dot( delta, delta ) ) )\n",
    "\n",
    "rms_geotransform = math.sqrt( sumDelta / len(lla_gcp_list) )\n",
    "print( f'RMS Error: {rms_geotransform}, Max Delta: {maxDelta}' )\n",
    "\n",
    "print( f'minVal: {minVal}, maxVal: {maxVal}' )\n",
    "grid_x, grid_y = np.mgrid[ minVal[0]:maxVal[0]:0.001, minVal[1]:maxVal[1]:0.001]\n",
    "grid_vals = scipy.interpolate.griddata( points, deltas, (grid_x, grid_y), method='linear' )"
   ]
  },
  {
   "cell_type": "code",
   "execution_count": null,
   "id": "c45de974-d880-4163-bf2b-321bfbc89343",
   "metadata": {},
   "outputs": [],
   "source": []
  }
 ],
 "metadata": {
  "kernelspec": {
   "display_name": "Python 3 (ipykernel)",
   "language": "python",
   "name": "python3"
  },
  "language_info": {
   "codemirror_mode": {
    "name": "ipython",
    "version": 3
   },
   "file_extension": ".py",
   "mimetype": "text/x-python",
   "name": "python",
   "nbconvert_exporter": "python",
   "pygments_lexer": "ipython3",
   "version": "3.12.8"
  }
 },
 "nbformat": 4,
 "nbformat_minor": 5
}
