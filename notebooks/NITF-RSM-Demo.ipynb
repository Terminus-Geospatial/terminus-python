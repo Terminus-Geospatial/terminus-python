{
 "cells": [
  {
   "cell_type": "markdown",
   "metadata": {},
   "source": [
    "#  NITF Replacement Sensor Model (RSM) Demo\n",
    "\n",
    "This notebook demonstrates how to create an RSM TRE for a given image.  "
   ]
  },
  {
   "cell_type": "markdown",
   "metadata": {},
   "source": [
    "## Benefits of the RSM over \"4-corners\" and SENSRB\n",
    "\n",
    "1. No knowledge of the underlying camera is required.  The embedded polynomials abstract everything.\n",
    "2. The imagery provider (You), no longer need to actually ortho-rectify the imagery.  Simply convert the imagery to the expected color-space, apply any color corrections, then write to disk.  The RSM can allow a downstream user to optionally apply ortho-rectification."
   ]
  },
  {
   "cell_type": "markdown",
   "metadata": {},
   "source": [
    "## Step 0 - Setup Preconditions\n",
    "\n",
    "First, we have our required Python packages."
   ]
  },
  {
   "cell_type": "code",
   "execution_count": null,
   "metadata": {},
   "outputs": [],
   "source": [
    "import datetime\n",
    "import os\n",
    "import sys\n",
    "\n",
    "import pandas as pd\n",
    "\n",
    "import cv2\n",
    "\n",
    "import numpy as np\n",
    "\n",
    "import plotly.graph_objects as go\n",
    "import plotly.express       as px\n",
    "import plotly.subplots      as sp\n",
    "\n",
    "sys.path.append( '../src' )\n",
    "import tmns.net.wms as wms"
   ]
  },
  {
   "cell_type": "markdown",
   "metadata": {},
   "source": [
    "Our image is from April 23, 2002."
   ]
  },
  {
   "cell_type": "code",
   "execution_count": null,
   "metadata": {},
   "outputs": [],
   "source": [
    "img_path = 'ARUDEN000040045.tif'"
   ]
  },
  {
   "cell_type": "markdown",
   "metadata": {},
   "source": [
    "We will be verifying our Ground Control Points via a comparison against USDA NAIP imagery.  This is available from the US Government via a Web-Map-Service (WMS)."
   ]
  },
  {
   "cell_type": "code",
   "execution_count": null,
   "metadata": {},
   "outputs": [],
   "source": [
    "#  URL to ArcGIS Hosted NAIP imagery\n",
    "wms_url = 'https://gis.apfo.usda.gov/arcgis/services/NAIP/USDA_CONUS_PRIME/ImageServer/WMSServer?service=WMS'\n",
    "\n",
    "# USDA_CONUS_PRIME\n",
    "wms_layers = 0\n",
    "\n",
    "#  Image Format\n",
    "wms_format = 'image/png'"
   ]
  },
  {
   "cell_type": "markdown",
   "metadata": {},
   "source": [
    "## Step 1 - Load Non-Orthorectified Image\n",
    "In this demo, we have an aerial photograph of Denver's City Park taken in 2002.  This photo is used because it is not orthorectified.  We will need to manually determine a camera model."
   ]
  },
  {
   "cell_type": "code",
   "execution_count": null,
   "metadata": {},
   "outputs": [],
   "source": [
    "img_bands = cv2.cvtColor( cv2.imread( img_path, cv2.IMREAD_COLOR ), cv2.COLOR_BGR2RGB )\n",
    "print(img_bands.shape)"
   ]
  },
  {
   "cell_type": "code",
   "execution_count": null,
   "metadata": {},
   "outputs": [],
   "source": [
    "fig1 = go.Figure()\n",
    "fig1.add_trace( go.Image( z = img_bands ) )\n",
    "fig1.update_layout( title = 'USGS Aerial Photo, 4/23/2002',\n",
    "                    height = 900 )\n",
    "fig1.show( renderer = 'png' )"
   ]
  },
  {
   "cell_type": "markdown",
   "metadata": {},
   "source": [
    "## Estimating Rigid Sensor Model\n",
    "\n",
    "For this exerciese, we use the available metadata from the USGS for the given frame. "
   ]
  },
  {
   "cell_type": "code",
   "execution_count": null,
   "metadata": {},
   "outputs": [],
   "source": [
    "img_df = pd.DataFrame( { 'Attribute': ['Acquisition Date', 'Flight Altitude (ft)', 'Focal Length (mm)',\n",
    "                                       'Film Width (mm)', 'Film Height (mm)',\n",
    "                                       'Center Lat', 'Center Lon',\n",
    "                                       'NW Lat', 'NW Lon', 'NE Lat', 'NE Lon',\n",
    "                                       'SE Lat', 'SE Lon', 'SW Lat', 'SE Lon',\n",
    "                                       'Pitch Angle', 'Yaw Angle', 'Roll Angle' ],\n",
    "                         'Value': [ datetime.datetime( year = 2002, month = 4, day = 23 ),\n",
    "                                    7500, 152.77, 229, 229,\n",
    "                                    39.750006, -104.95283,\n",
    "                                    39.765563, -104.972699, 39.765335, -104.932675,\n",
    "                                    39.734448, -104.932979, 39.734676, -104.972985,\n",
    "                                    -1.3, -8.7, 0.0 ] } )\n",
    "display( img_df )"
   ]
  },
  {
   "cell_type": "markdown",
   "metadata": {},
   "source": [
    "We will assume the aircraft position is directly above the center point.  Given the camera rotation is not perfectly level, this will require adjustments later. "
   ]
  },
  {
   "cell_type": "code",
   "execution_count": null,
   "metadata": {},
   "outputs": [],
   "source": [
    "position_lla = [ img_df.loc[img_df['Attribute'] == 'Center Lon'].values[0][1],\n",
    "                 img_df.loc[img_df['Attribute'] == 'Center Lat'].values[0][1],\n",
    "                 img_df.loc[img_df['Attribute'] == 'Flight Altitude (ft)'].values[0][1] * 3.28084]\n",
    "display( position_lla )"
   ]
  },
  {
   "cell_type": "markdown",
   "metadata": {},
   "source": [
    "## Mark Ground Control Points\n",
    "\n",
    "We have a set of Ground-Control-Points in the attached file. The first few are shown for context."
   ]
  },
  {
   "cell_type": "code",
   "execution_count": null,
   "metadata": {},
   "outputs": [],
   "source": [
    "gcp_df = pd.read_csv( 'GCPs.csv' )\n",
    "display( gcp_df.head(5) )\n",
    "display( f'Total of {gcp_df.shape[0]} GCPs loaded' )"
   ]
  },
  {
   "cell_type": "markdown",
   "metadata": {},
   "source": [
    "### Verifying Accuracy of GCPs\n",
    "This is a highly error prone process.  To verify all inputs, we have a set of steps. \n",
    "\n",
    "- Verify the pixel locations by drawing a circle on the image and cropping.\n",
    "- Verify the geographic coordinate by cropping a Web-Map-Service frame.\n",
    "- Writing both images and showing."
   ]
  },
  {
   "cell_type": "code",
   "execution_count": null,
   "metadata": {},
   "outputs": [],
   "source": [
    "def crop_and_mark_image( image, pix ):\n",
    "\n",
    "    #  Crop the image\n",
    "    r = [[pix[0] - 100, pix[0] + 100],[pix[1] - 100, pix[1] + 100]]\n",
    "    new_img = image[ r[0][0]:r[0][1], r[1][0]:r[1][1] ]\n",
    "\n",
    "    "
   ]
  },
  {
   "cell_type": "code",
   "execution_count": null,
   "metadata": {},
   "outputs": [],
   "source": [
    "if not os.path.exists( 'crops' ):\n",
    "    os.system( 'mkdir crops' )\n",
    "\n",
    "for gcp in gcp_df.itertuples():\n",
    "    \n",
    "    pix = np.array( [ gcp.PX, gcp.PY ], dtype = np.float64 )\n",
    "    lla = np.array( [ gcp.Longitude, gcp.Latitude, gcp.Elevation ], dtype = np.float64 )\n",
    "\n",
    "    #  Crop scene\n",
    "    pix_img = crop_and_mark_image( img_bands, pix )\n",
    "    print( f'Pixel: {pix}, Coord: {lla}' )"
   ]
  },
  {
   "cell_type": "code",
   "execution_count": null,
   "metadata": {},
   "outputs": [],
   "source": []
  }
 ],
 "metadata": {
  "kernelspec": {
   "display_name": "Python 3 (ipykernel)",
   "language": "python",
   "name": "python3"
  },
  "language_info": {
   "codemirror_mode": {
    "name": "ipython",
    "version": 3
   },
   "file_extension": ".py",
   "mimetype": "text/x-python",
   "name": "python",
   "nbconvert_exporter": "python",
   "pygments_lexer": "ipython3",
   "version": "3.12.8"
  }
 },
 "nbformat": 4,
 "nbformat_minor": 4
}
